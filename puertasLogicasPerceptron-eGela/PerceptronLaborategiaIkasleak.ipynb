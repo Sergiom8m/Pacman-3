{
 "cells": [
  {
   "cell_type": "markdown",
   "metadata": {},
   "source": [
    "# Codifica tus própios perceptrones para implementar puertas lógicas\n",
    "En las partes que aparecen así\n",
    "```python\n",
    "pass  # ⬅️✏️\n",
    "```\n",
    "necesitas rellenar código antes de pasar a la siguiente celda.\n",
    "\n",
    "Revisa las transparencias de clase para llevar a cabo estos ejercicios."
   ]
  },
  {
   "cell_type": "markdown",
   "metadata": {},
   "source": [
    "### Comenzaremos por implementar una **neurona AND**. Ojo!! No la vamos a entrenar, vamos a asumir que conocemos los pesos (los hemos calculado en clase) \n",
    "\n",
    "Para ello:\n",
    "\n",
    "1) suponemos que el entrenamiento ya está previamente hecho y por lo tanto conocemos los pesos apropiados (consultar las transparencias)\n",
    "\n",
    "2) Nos piden implementar la neurona AND y probar con un item o ejemplo, por ejemplo un vector de input 0,1 que la salida es correcta\n",
    "\n",
    "Recordad que en clase hemos descubierto que los pesos apropiados son:\n",
    "0.66 y 0.8, así que el vector de pesos será [0.66,0.8] y el bias será 1 y el peso para el bias será -0.97"
   ]
  },
  {
   "cell_type": "code",
   "execution_count": 1,
   "metadata": {
    "lines_to_next_cell": 1
   },
   "outputs": [],
   "source": [
    "# Definir dos vectores (listas): input my_x, pesos my_w\n",
    "\n",
    "my_x = [0, 1] # Input un item\n",
    "my_w = [0.66, 0.80]"
   ]
  },
  {
   "cell_type": "code",
   "execution_count": 2,
   "metadata": {},
   "outputs": [],
   "source": [
    "# Multiplicar dos vectores elemento a elemento\n",
    "\n",
    "def mul(a, b):\n",
    "    \"\"\"\n",
    "    devolver una lista c, de la misma longitud que a y b donde \n",
    "    cada elemento c[i] = a[i] * b[i]\n",
    "    lo podéis hacer con un bucle o con una list comprenhension\n",
    "    \"\"\"\n",
    "    \n",
    "    c = [x * y for x, y in zip(a, b)]\n",
    "    \n",
    "    return c\n",
    "    "
   ]
  },
  {
   "cell_type": "code",
   "execution_count": 3,
   "metadata": {},
   "outputs": [
    {
     "name": "stdout",
     "output_type": "stream",
     "text": [
      "[0.0, 0.8]\n"
     ]
    }
   ],
   "source": [
    "# Test la función mul() con un item my_x y los pesos descubiertos en clase my_w, el resultado debería ser el vector [0.0,0.8]\n",
    "\n",
    "print(mul(my_x, my_w))\n"
   ]
  },
  {
   "cell_type": "code",
   "execution_count": 4,
   "metadata": {
    "lines_to_next_cell": 1
   },
   "outputs": [
    {
     "name": "stdout",
     "output_type": "stream",
     "text": [
      "[-0.97, 0.66, 0.8]\n"
     ]
    }
   ],
   "source": [
    "# Define el bias my_bias y el peso descubierto en clase asociado a ese bias añadiré el bias a el vector de pesos my_w generando un nuevo vector my_wPlusWBias.\n",
    "# Posibles errores: Recordad que en Python las variables con punteros y el insertar si lo ejecutáis varias veces los valores se van acumulando dependiendo de cómo hagáis la inserción.\n",
    "# my_wPlusWBias debería contener [-0.97, 0.66, 0.8]. Pista para hacer copias de un vector. copiaV=v[:] o copiaV=v.copy()\n",
    "\n",
    "my_bias  = 1\n",
    "my_wbias = -0.97\n",
    "\n",
    "my_wPlusWBias = [my_wbias] + my_w[:]\n",
    "\n",
    "print(my_wPlusWBias)\n"
   ]
  },
  {
   "cell_type": "code",
   "execution_count": 5,
   "metadata": {},
   "outputs": [],
   "source": [
    "# Neurona lineal\n",
    "def distanciaDelCoseno(x, weights, bias):\n",
    "    \"\"\"\n",
    "    El producto escalar (producto punto) de dos vectores y la similitud de coseno no son completamente equivalentes \n",
    "    ya que la similitud del coseno solo se preocupa por la diferencia de ángulo, \n",
    "    mientras que el producto de punto se preocupa por el ángulo y la magnitud\n",
    "    Pero en muchas ocasiones se emplean indistintamente\n",
    "    Así pues, esta función devuelve el valor escalar de la neurona, es decir, \n",
    "    el producto escalar entre el vector de entrada añadiendo el bias y el vector de los pesos\n",
    "    recordad que \"sum(list)\" computa la suma de los elementos de una lista\n",
    "    Así pues se comenzará por añadir el bías en la posición 0 del vector de entrada \n",
    "    antes de llevar a cabo el producto escalar para así tener dos vectores de \n",
    "    la misma longitud. Emplea la función mul que ya has programado\n",
    "    \"\"\"\n",
    "\n",
    "    x = [my_bias] + x\n",
    "\n",
    "    return sum(mul(x, my_wPlusWBias))\n",
    "    "
   ]
  },
  {
   "cell_type": "code",
   "execution_count": 6,
   "metadata": {},
   "outputs": [
    {
     "data": {
      "text/plain": [
       "-0.16999999999999993"
      ]
     },
     "execution_count": 6,
     "metadata": {},
     "output_type": "execute_result"
    }
   ],
   "source": [
    "# Test distanciaDelCoseno que debería darte -0.16999999999999993 para los datos my_x, my_wPlusWBias, my_bias\n",
    "\n",
    "distanciaDelCoseno(my_x, my_wPlusWBias, my_bias)"
   ]
  },
  {
   "cell_type": "code",
   "execution_count": 7,
   "metadata": {},
   "outputs": [],
   "source": [
    "# Una neurona perceptron completa, distancia del coseno y activación\n",
    "\n",
    "def neuron(x, weights, bias):\n",
    "    \"\"\"\n",
    "    Devolverá el output de una neurona clásica \n",
    "    (reutilizar la distancia del coseno definida previamente) \n",
    "    y añadir la función de activación (step function): si >=0 entonces 1 sino -1\n",
    "    \"\"\"\n",
    "    output= -1\n",
    "\n",
    "    if distanciaDelCoseno(x, weights, bias) >= 0:\n",
    "       output = 1\n",
    "    \n",
    "    return output\n",
    "    \n",
    "    "
   ]
  },
  {
   "cell_type": "code",
   "execution_count": 8,
   "metadata": {},
   "outputs": [
    {
     "data": {
      "text/plain": [
       "-1"
      ]
     },
     "execution_count": 8,
     "metadata": {},
     "output_type": "execute_result"
    }
   ],
   "source": [
    "# Testar la función neuron() para el item my_x y el bias my_b y el vector de pesos my_wPlusWBias debería de dar -1 para el input item [0,1] con el bias 1 y el vector de pesos hayado en clase\n",
    "\n",
    "neuron(my_x, my_wPlusWBias, my_bias)"
   ]
  },
  {
   "cell_type": "code",
   "execution_count": 9,
   "metadata": {
    "lines_to_next_cell": 1
   },
   "outputs": [],
   "source": [
    "# Package AND neuron weights and bias\n",
    "\n",
    "def and_neuron(x):\n",
    "    \"\"\"\n",
    "    Devuelve x1 AND x2 suponiendo que la hemos entrenado\n",
    "    y que en ese entrenamiento hemos aprendido los pesos apropiados \n",
    "    (mirar las transparencias de clase). Así pues inicializaremos \n",
    "    una la variable local and_w con los pesos aprendidos \n",
    "    y a 1 la variable local and_bias \n",
    "    y ejecutaremos la función neurona para el item x\"\"\"\n",
    "    \n",
    "    and_w    = [-0.97,0.66, 0.80] # Initialization of the weights and_w\n",
    "    and_bias = 1 # Initialization of the bias and_bias\n",
    "    \n",
    "    result = neuron(x, and_w, and_bias)\n",
    "\n",
    "    return result\n",
    "\n"
   ]
  },
  {
   "cell_type": "markdown",
   "metadata": {},
   "source": [
    "Ahora nos piden probar la puerta para toda la colección de inputs posibles"
   ]
  },
  {
   "cell_type": "code",
   "execution_count": 10,
   "metadata": {},
   "outputs": [],
   "source": [
    "# Se definen los items de entrada para testar las neuronas AND y las posteriores que implementaremos (OR, XOR)\n",
    "# CUIDADO para la neurona NOT hará falta otra colección dado que los vectores de entrada a la NOT no tienen dos dimensiones sino 1\n",
    "\n",
    "my_x_collection = [\n",
    "    [0, 0],\n",
    "    [0, 1],\n",
    "    [1, 0],\n",
    "    [1, 1],\n",
    "]"
   ]
  },
  {
   "cell_type": "code",
   "execution_count": 11,
   "metadata": {
    "lines_to_next_cell": 1
   },
   "outputs": [
    {
     "name": "stdout",
     "output_type": "stream",
     "text": [
      "Testando el output de la neurona AND\n",
      "[0, 0] -1.000\n",
      "[0, 1] -1.000\n",
      "[1, 0] -1.000\n",
      "[1, 1] 1.000\n"
     ]
    }
   ],
   "source": [
    "# Para los items de entrada my_x_collection la salida debería ser -1, -1, -1, 1\n",
    "\n",
    "print('Testando el output de la neurona AND')\n",
    "\n",
    "# Bucle para ir obteniendo el output de la neurona AND para cada item del input\n",
    "\n",
    "for my_x in my_x_collection:\n",
    "    print(my_x, f'{and_neuron(my_x):.3f}')"
   ]
  },
  {
   "cell_type": "markdown",
   "metadata": {},
   "source": [
    "### Neurona OR\n",
    "\n",
    "Hasta ahora solo habéis tenido que implementar la neurona AND sin tener que entrenarla dado que ya conocíamos los pesos que habíamos aprendido en clase. Es decir, no habéis implementado en Python la fase de entrenamiento de la neurona para determinar los pesos. Ahora se os pide que entrenéis una neurona OR, de forma que realicéis iteraciones sobre los items del input. Para ello los pasos serán:\n",
    "1) Inicializar un vector de pesos de forma random (emplear la librería random **from random import random**)\n",
    "\n",
    "2) Por cada item del input aplicar la neurona y si la predicción realizada por la neurona en base a aplicar  la distancia del coseno y la función de activación no es correcta, entonces ajustar los pesos consecuentemente\n",
    "\n",
    "3) Repetir el paso 2 hasta convergencia (es decir, hasta que todos los items estén correctamente clasificados)"
   ]
  },
  {
   "cell_type": "code",
   "execution_count": 12,
   "metadata": {
    "lines_to_next_cell": 1
   },
   "outputs": [
    {
     "name": "stdout",
     "output_type": "stream",
     "text": [
      "Entrenando una neurona OR hasta convergencia\n",
      "Imprimiendo los pesos random [0.13436424411240122, 0.8474337369372327, 0.763774618976614] \n",
      "\n",
      "Vuelta número: 0\n",
      "Vuelta número: 1\n",
      "Vuelta número: 2\n",
      "\n",
      "Pesos finales: [3.134364244112401, 2.8474337369372327, 1.7637746189766141]\n",
      "Número de vueltas: 3\n"
     ]
    }
   ],
   "source": [
    "from random import seed\n",
    "from random import random\n",
    "\n",
    "# Inicializaciones\n",
    "print('Entrenando una neurona OR hasta convergencia')\n",
    "notConverge = True\n",
    "seed(1) # Si queremos que el proceso de inicialización random sea replicable\n",
    "\n",
    "orWeights= [random() for i in range(3)] # Inicializar de forma random el vector de pesos or_weights\n",
    "print(\"Imprimiendo los pesos random\", orWeights, \"\\n\")\n",
    "orBias   = 1 # Inicialización del bias a 1\n",
    "orGoldOutputs=[-1,1,1,1] # Inicialización del Gold Standard o patrón oro, es decir, el output que la neurona OR debería aprender a obtener\n",
    "\n",
    "# Entrenamiento\n",
    "\n",
    "numeroVuelta = 0\n",
    "\n",
    "while notConverge:\n",
    "    print(\"Vuelta número:\", numeroVuelta)\n",
    "    notConverge = False\n",
    "\n",
    "    for index, x in enumerate(my_x_collection):\n",
    "        output = neuron(x, orWeights, orBias)\n",
    "            \n",
    "        if output != orGoldOutputs[index]:\n",
    "            notConverge = True\n",
    "\n",
    "            x.insert(0, orBias)\n",
    "            \n",
    "            if output == 1: # Estan demasiado cerca, por lo tanto alejamos (restar)\n",
    "\n",
    "                orWeights = [orWeights[i] - x[i] for i in range(len(orWeights))]\n",
    "\n",
    "            else: # Estan demasiado lejos, por lo tanto acercamos (sumar)\n",
    "\n",
    "                orWeights = [orWeights[i] + x[i] for i in range(len(orWeights))]\n",
    "                \n",
    "\n",
    "    numeroVuelta += 1\n",
    "\n",
    "# Resultados\n",
    "print(\"\\nPesos finales:\", orWeights)\n",
    "print(\"Número de vueltas:\", numeroVuelta)\n",
    "\n",
    "   "
   ]
  },
  {
   "cell_type": "markdown",
   "metadata": {},
   "source": [
    "### Neurona NOT\n",
    "\n",
    "Ahora implementa el entrenamiento de una neurona NOT"
   ]
  },
  {
   "cell_type": "code",
   "execution_count": 13,
   "metadata": {},
   "outputs": [],
   "source": [
    "# Se definen los items de entrada para testar la neurona NOT. \n",
    "# Recordad que los vectores de entrada a la NOT no tienen dos dimensiones sino 1\n",
    "\n",
    "my_x_collection = [\n",
    "    [0],\n",
    "    [1]\n",
    "]"
   ]
  },
  {
   "cell_type": "code",
   "execution_count": 14,
   "metadata": {
    "lines_to_next_cell": 1
   },
   "outputs": [
    {
     "name": "stdout",
     "output_type": "stream",
     "text": [
      "Entrenando una neurona NOT hasta convergencia\n",
      "Imprimiendo los pesos random [0.13436424411240122, 0.8474337369372327] \n",
      "\n",
      "Vuelta número: 0\n",
      "Vuelta número: 1\n",
      "Vuelta número: 2\n",
      "\n",
      "Pesos finales: [2.134364244112401, 1.8474337369372327]\n",
      "Número de vueltas: 3\n"
     ]
    }
   ],
   "source": [
    "from random import seed\n",
    "from random import random\n",
    "\n",
    "\n",
    "# Inicializaciones\n",
    "print('Entrenando una neurona NOT hasta convergencia')\n",
    "notConverge=True\n",
    "seed(1) # Si queremos que el proceso de inicialización random sea replicable\n",
    "\n",
    "# Inicializar de forma random el vector de pesos notWeights\n",
    "\n",
    "notWeights = [random() for _ in range(2)]\n",
    "\n",
    "print(\"Imprimiendo los pesos random\", notWeights, \"\\n\")\n",
    "notBias = 1 # Inicialización del bias a 1\n",
    "\n",
    "# Inicialización del Gold Standard o patrón oro,notGoldOutput. \n",
    "notGoldOutputs=[1,-1]\n",
    "\n",
    "# Entrenando\n",
    "numeroVuelta = 0\n",
    "\n",
    "while notConverge:\n",
    "    print(\"Vuelta número:\", numeroVuelta)\n",
    "    notConverge = False\n",
    "\n",
    "    for index, x in enumerate(my_x_collection):\n",
    "        output = neuron(x, notWeights, notBias)\n",
    "            \n",
    "        if output != notGoldOutputs[index]:\n",
    "            notConverge = True\n",
    "\n",
    "            x.insert(0, notBias)\n",
    "            \n",
    "            if output == 1: # Estan demasiado cerca, por lo tanto alejamos (restar)\n",
    "\n",
    "                notWeights = [notWeights[i] - x[i] for i in range(len(notWeights))]\n",
    "\n",
    "            else: # Estan demasiado lejos, por lo tanto acercamos (sumar)\n",
    "\n",
    "                 notWeights = [notWeights[i] + x[i] for i in range(len(notWeights))]\n",
    "                \n",
    "\n",
    "    numeroVuelta += 1\n",
    "\n",
    "# Resultados\n",
    "print(\"\\nPesos finales:\", notWeights)\n",
    "print(\"Número de vueltas:\", numeroVuelta)"
   ]
  },
  {
   "cell_type": "markdown",
   "metadata": {},
   "source": [
    "### Weighted average\n",
    "\n",
    "Ahora implementa el weighted average explicado en las transparencias de clase ¿qué puedes decir acerca de las actualizaciones de los pesos y el número de epochs?"
   ]
  },
  {
   "cell_type": "code",
   "execution_count": 15,
   "metadata": {},
   "outputs": [],
   "source": [
    "my_x_collection = [\n",
    "    [0, 0],\n",
    "    [0, 1],\n",
    "    [1, 0],\n",
    "    [1, 1],\n",
    "]"
   ]
  },
  {
   "cell_type": "code",
   "execution_count": 16,
   "metadata": {},
   "outputs": [],
   "source": [
    "def matrixAverage(m):\n",
    "    res=list()\n",
    "    acum=list()\n",
    "    if len(m) > 0:\n",
    "        res=[0]*len(m[0])\n",
    "        for v in m:\n",
    "            res = [a+b for a,b in zip (res,v)]\n",
    "        acum=[elem/len(m) for elem in res]\n",
    "    return acum"
   ]
  },
  {
   "cell_type": "code",
   "execution_count": 17,
   "metadata": {},
   "outputs": [
    {
     "name": "stdout",
     "output_type": "stream",
     "text": [
      "[2.0, 3.0, 4.0]\n"
     ]
    }
   ],
   "source": [
    "matrix=[[2,3,4],[2,3,4],[2,3,4]]\n",
    "print(matrixAverage(matrix))"
   ]
  },
  {
   "cell_type": "code",
   "execution_count": 18,
   "metadata": {},
   "outputs": [
    {
     "name": "stdout",
     "output_type": "stream",
     "text": [
      "Entrenando una neurona OR hasta convergencia\n",
      "Imprimiendo los pesos random [0.13436424411240122, 0.8474337369372327, 0.763774618976614] \n",
      "\n",
      "Vuelta número: 0\n",
      "Vuelta número: 1\n",
      "Vuelta número: 2\n",
      "\n",
      "Pesos finales: [1.634364244112401, 1.8474337369372327, 1.2637746189766141]\n",
      "Número de vueltas: 3\n"
     ]
    }
   ],
   "source": [
    "from random import seed\n",
    "from random import random\n",
    "\n",
    "# Inicializaciones\n",
    "print('Entrenando una neurona OR hasta convergencia')\n",
    "notConverge=True\n",
    "seed(1) # Si queremos que el proceso de inicialización random sea replicable\n",
    "orWeights= [random() for i in range(3)] # nicializar de forma random el vector de pesos or_weights\n",
    "print(\"Imprimiendo los pesos random\", orWeights, \"\\n\")\n",
    "orBias   = 1 # Inicialización del bias a 1\n",
    "orGoldOutputs=[-1,1,1,1] # Inicialización del Gold Standard o patrón oro\n",
    "weightLength = len(orWeights) \n",
    "\n",
    "# Entrenando\n",
    "\n",
    "numeroVuelta = 0\n",
    "\n",
    "while notConverge:\n",
    "    print(\"Vuelta número:\", numeroVuelta)\n",
    "    notConverge = False\n",
    "\n",
    "    for index, x in enumerate(my_x_collection):\n",
    "        output = neuron(x, orWeights, orBias)\n",
    "            \n",
    "        if output != orGoldOutputs[index]:\n",
    "            notConverge = True\n",
    "\n",
    "            # Guardar los pesos pre-actualizados para despues hacer la media\n",
    "            oldWeigths = orWeights\n",
    "\n",
    "            x.insert(0, orBias)\n",
    "            \n",
    "            if output == 1: # Estan demasiado cerca, por lo tanto alejamos (restar)\n",
    "\n",
    "                orWeights = [orWeights[i] - x[i] for i in range(len(orWeights))]\n",
    "\n",
    "            else: # Estan demasiado lejos, por lo tanto acercamos (sumar)\n",
    "\n",
    "                orWeights = [orWeights[i] + x[i] for i in range(len(orWeights))]\n",
    "            \n",
    "            # Hacer la media entre pesos\n",
    "            orWeights = matrixAverage([oldWeigths, orWeights])\n",
    "\n",
    "    numeroVuelta += 1\n",
    "\n",
    "# Resultados\n",
    "print(\"\\nPesos finales:\", orWeights)\n",
    "print(\"Número de vueltas:\", numeroVuelta)\n",
    "        "
   ]
  },
  {
   "cell_type": "code",
   "execution_count": null,
   "metadata": {},
   "outputs": [],
   "source": [
    "# Package OR neuron weights and bias\n",
    "def or_neuron(x):\n",
    "    \"\"\"\n",
    "    Devuelve x1 AND x2 suponiendo que la hemos entrenado\n",
    "    y que en ese entrenamiento hemos aprendido los pesos apropiados \n",
    "    (mirar las transparencias de clase). Así pues inicializaremos \n",
    "    una la variable local and_w con los pesos aprendidos \n",
    "    y a 1 la variable local and_bias \n",
    "    y ejecutaremos la función neurona para el item x\"\"\"\n",
    "    or_w    = [-0.3656,0.8474, 0.7637] # Initialization of the weights and_w\n",
    "    or_bias = 1 # Initialization of the bias and_bias\n",
    "    pass  # ⬅️✏️"
   ]
  },
  {
   "cell_type": "code",
   "execution_count": null,
   "metadata": {},
   "outputs": [],
   "source": [
    "# Para los items de entrada my_x_collection la salida debería ser \n",
    "# -1, 1, 1, 1\n",
    "print('Testando el output de la neurona OR')\n",
    "#bucle para ir obteniendo el output de la neurona OR para cada item del input\n",
    "for my_x in my_x_collection:\n",
    "    print(my_x, f'{or_neuron(my_x):.3f}')"
   ]
  },
  {
   "cell_type": "markdown",
   "metadata": {},
   "source": [
    "### X-OR"
   ]
  },
  {
   "cell_type": "code",
   "execution_count": null,
   "metadata": {},
   "outputs": [],
   "source": [
    "# Combinando una puerta OR y una AND, y aprendiendo el peso que hay que darle a cada una para obtener un XOR \n",
    "from random import seed\n",
    "from random import random\n",
    "\n",
    "#inicializaciones\n",
    "print('Entrenando una neurona XOR hasta convergencia')\n",
    "xorConverge=True\n",
    "seed(1)# Si queremos que el proceso de inicialización random sea replicable\n",
    "xorWeights= [random() for i in range(3)]#inicializar de forma random el vector de pesos or_weights\n",
    "print(\"Imprimiendo los pesos random\", xorWeights, \"\\n\")\n",
    "xorBias   = -0.5#inicialización del bias a 0.5\n",
    "xorGoldOutputs=[-1,1,1,-1]#inicialización del Gold Standard o patrón oro, \n",
    "# es decir, el output que la red XOR debería aprender a obtener\n",
    "#entrenando\n",
    "numeroVuelta = 0\n",
    "\n",
    "#while xorConverge:\n",
    "  pass  # ⬅️✏️"
   ]
  },
  {
   "cell_type": "code",
   "execution_count": null,
   "metadata": {},
   "outputs": [],
   "source": [
    "def xor_neuron(x):\n",
    "    \"\"\"\n",
    "    Return x1_ * x2 + x1 * x2_\n",
    "    \"\"\"\n",
    "    xor_w    = [-1.115635755887599, 0.3474337369372327, -0.7362253810233859]\n",
    "    xor_bias = -0.5\n",
    "    new_x=list()\n",
    "    new_x.append(and_neuron(x))\n",
    "    new_x.append(or_neuron(x))\n",
    "    return neuron(new_x, xor_w, xor_bias)"
   ]
  },
  {
   "cell_type": "code",
   "execution_count": null,
   "metadata": {},
   "outputs": [],
   "source": [
    "print('Checking XOR neuron output')\n",
    "for my_x in my_x_collection:\n",
    "    print(my_x, f'{xor_neuron(my_x):.3f}')"
   ]
  }
 ],
 "metadata": {
  "jupytext": {
   "encoding": "# -*- coding: utf-8 -*-"
  },
  "kernelspec": {
   "display_name": "Python 3 (ipykernel)",
   "language": "python",
   "name": "python3"
  },
  "language_info": {
   "codemirror_mode": {
    "name": "ipython",
    "version": 3
   },
   "file_extension": ".py",
   "mimetype": "text/x-python",
   "name": "python",
   "nbconvert_exporter": "python",
   "pygments_lexer": "ipython3",
   "version": "3.11.5"
  }
 },
 "nbformat": 4,
 "nbformat_minor": 2
}
